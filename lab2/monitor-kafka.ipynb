{
 "cells": [
  {
   "cell_type": "code",
   "execution_count": 1,
   "id": "815a5ac3-b6a8-4aba-9587-e9bb13a2dfae",
   "metadata": {
    "collapsed": true,
    "jupyter": {
     "outputs_hidden": true
    },
    "tags": []
   },
   "outputs": [
    {
     "ename": "SyntaxError",
     "evalue": "invalid syntax (206837608.py, line 1)",
     "output_type": "error",
     "traceback": [
      "\u001b[0;36m  File \u001b[0;32m\"/var/folders/f0/q7nn178n5cldx0lvl6yvbbn40000gn/T/ipykernel_52170/206837608.py\"\u001b[0;36m, line \u001b[0;32m1\u001b[0m\n\u001b[0;31m    $KAFKA_HOME/bin/kafka-run-class.shkafka.tools.GetoffsetShell --\u001b[0m\n\u001b[0m    ^\u001b[0m\n\u001b[0;31mSyntaxError\u001b[0m\u001b[0;31m:\u001b[0m invalid syntax\n"
     ]
    }
   ],
   "source": [
    "$KAFKA_HOME/bin/kafka-run-class.shkafka.tools.GetoffsetShell --\n",
    "broker-list localhost:9092 --topic $TOPIC NAME"
   ]
  },
  {
   "cell_type": "code",
   "execution_count": 6,
   "id": "e1bda015-b986-45e1-a248-c6e75b9e3e20",
   "metadata": {},
   "outputs": [
    {
     "name": "stdout",
     "output_type": "stream",
     "text": [
      "Topic-name: en-tweets, Partition-id: 0, offset-id: 33, timestamp: 2022-12-12 12:23:01.742468\n",
      "Topic-name: negative-tweets, Partition-id: 0, offset-id: 6, timestamp: 2022-12-12 12:23:01.845652\n",
      "Topic-name: raw-tweets, Partition-id: 0, offset-id: 71, timestamp: 2022-12-12 12:23:01.847813\n",
      "Topic-name: positive-tweets, Partition-id: 0, offset-id: 18, timestamp: 2022-12-12 12:23:01.850209\n"
     ]
    }
   ],
   "source": [
    "\"\"\"\n",
    "Write a script: monitor-kafka.py that monitors all the Kafka topics and prints the status of each Kafka topic in the\n",
    "console in real-time for monitoring purposes. The status information should be in the format: Topic-name,\n",
    "Partition-id, offset-id, timestamp.\n",
    "\"\"\"\n",
    "from kafka import KafkaConsumer, TopicPartition\n",
    "from datetime import datetime\n",
    "\n",
    "\n",
    "def monitor_kafka_topics():\n",
    "    consumer = KafkaConsumer()\n",
    "    topics = consumer.topics()\n",
    "    \n",
    "    for topic in topics:\n",
    "        partitions = consumer.partitions_for_topic(topic)\n",
    "        for partition in partitions:\n",
    "            # TODO: implement offset\n",
    "            offset = 0\n",
    "            \n",
    "            ###########\n",
    "            tp = TopicPartition(topic, partition)\n",
    "            consumer.assign([tp])\n",
    "            consumer.seek_to_end(tp)\n",
    "            offset = consumer.position(tp)\n",
    "            ###########\n",
    "            \n",
    "            print(\n",
    "                f\"Topic-name: {topic}, Partition-id: {partition}, offset-id: {offset}, timestamp: {datetime.now()}\"\n",
    "            )\n",
    "\n",
    "\n",
    "if __name__ == \"__main__\":\n",
    "    monitor_kafka_topics()"
   ]
  },
  {
   "cell_type": "code",
   "execution_count": null,
   "id": "4c7d6a81-0dc0-4ee7-8be6-cf7f5853a7b4",
   "metadata": {},
   "outputs": [],
   "source": []
  }
 ],
 "metadata": {
  "kernelspec": {
   "display_name": "Python 3 (ipykernel)",
   "language": "python",
   "name": "python3"
  },
  "language_info": {
   "codemirror_mode": {
    "name": "ipython",
    "version": 3
   },
   "file_extension": ".py",
   "mimetype": "text/x-python",
   "name": "python",
   "nbconvert_exporter": "python",
   "pygments_lexer": "ipython3",
   "version": "3.9.7"
  }
 },
 "nbformat": 4,
 "nbformat_minor": 5
}
