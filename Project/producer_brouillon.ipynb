{
 "cells": [
  {
   "cell_type": "code",
   "execution_count": null,
   "id": "cee120c8-4d4f-437a-a77a-48c708261b5f",
   "metadata": {
    "tags": []
   },
   "outputs": [],
   "source": [
    "import time\n",
    "import json \n",
    "import requests\n",
    "\n",
    "from kafka import KafkaProducer\n",
    "\n",
    "\n",
    "producer = KafkaProducer(bootstrap_servers=\"localhost:9092\", value_serializer=lambda v: json.dumps(v).encode('utf-8'))\n",
    "topic_name = \"project\"\n",
    "\n",
    "request = 'https://api.binance.com/api/v3/klines'\n",
    "params = dict({\n",
    "    'symbol':'BTCUSDT',\n",
    "    'interval':'1m',\n",
    "    'limit':'600'\n",
    "})\n",
    "\n",
    "while True:\n",
    "    response = rep = requests.get(request, params=params)\n",
    "    data = rep.json()\n",
    "    print(data)\n",
    "    producer.send(topic_name, data)\n",
    "    time.sleep(60)"
   ]
  },
  {
   "cell_type": "code",
   "execution_count": null,
   "id": "85738236-b744-4b1d-9929-977e7d1550ed",
   "metadata": {},
   "outputs": [],
   "source": [
    "import time\n",
    "from kafka import KafkaConsumer\n",
    "import json\n",
    "topic_name = 'project'\n",
    "consumer = KafkaConsumer(topic_name, bootstrap_servers=\"localhost:9092\",value_deserializer=lambda m: json.loads(m.decode('utf-8')))#json.dumps(m).decode('utf8'))\n",
    "for i in consumer:\n",
    "    print(i)\n",
    "'''for message in consumer:\n",
    "    #print(\"Received message : {} from topic : {}, partition: {}, offset: {}\",message)#.format(message.value, message.topic, message.partition, message.offset))\n",
    "    tweets = json.loads(json.dumps(message.value))\n",
    "    print(tweets)\n",
    "    #time.sleep(1)'''"
   ]
  },
  {
   "cell_type": "code",
   "execution_count": null,
   "id": "5af85a4f-2383-4923-b3b7-521851b4cd24",
   "metadata": {},
   "outputs": [],
   "source": []
  }
 ],
 "metadata": {
  "kernelspec": {
   "display_name": "Python 3 (ipykernel)",
   "language": "python",
   "name": "python3"
  },
  "language_info": {
   "codemirror_mode": {
    "name": "ipython",
    "version": 3
   },
   "file_extension": ".py",
   "mimetype": "text/x-python",
   "name": "python",
   "nbconvert_exporter": "python",
   "pygments_lexer": "ipython3",
   "version": "3.9.7"
  }
 },
 "nbformat": 4,
 "nbformat_minor": 5
}
